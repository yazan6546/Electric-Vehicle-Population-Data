{
 "cells": [
  {
   "cell_type": "code",
   "id": "initial_id",
   "metadata": {
    "collapsed": true
   },
   "source": [
    "import pandas as pd\n",
    "import seaborn as sns\n",
    "import matplotlib.pyplot as plt\n",
    "import geopandas as gpd\n",
    "import contextily as ctx"
   ],
   "outputs": [],
   "execution_count": null
  },
  {
   "metadata": {},
   "cell_type": "code",
   "source": [
    "df = pd.read_csv('data/Electric_Vehicle_Population_Data.csv')\n",
    "\n",
    "print(df.info())"
   ],
   "id": "2ca25b9f74acf8d9",
   "outputs": [],
   "execution_count": null
  },
  {
   "metadata": {},
   "cell_type": "code",
   "source": [
    "plt.figure(figsize=(10,6))\n",
    "\n",
    "sns.histplot(df['Electric Range'].dropna(),bins = 50)\n",
    "plt.title(\"Distribution of Electric Range\")\n",
    "plt.xlabel(\"Electric Range (miles)\")\n",
    "plt.ylabel(\"Frequency\")\n",
    "plt.show()"
   ],
   "id": "27482274a4f6c608",
   "outputs": [],
   "execution_count": null
  },
  {
   "metadata": {},
   "cell_type": "code",
   "source": [
    "#print(df['Base MSRP'].describe())\n",
    "df = pd.read_csv('data/Electric_Vehicle_Population_Data.csv')\n",
    "car_counts_Cty = df['City'].value_counts().nlargest(10)\n",
    "\n",
    "\n",
    "car_counts_Cty.plot(kind='bar')\n",
    "plt.xlabel('City')\n",
    "plt.ylabel('Number of Cars')\n",
    "plt.title('Top 10 Count of Cars per City')\n",
    "plt.show()\n",
    "\n",
    "\n",
    "car_counts_cty_df = car_counts_Cty.to_frame()\n",
    "car_counts_cty_df.style.background_gradient(cmap='Blues')\n"
   ],
   "id": "e464699f3f67aac4",
   "outputs": [],
   "execution_count": null
  },
  {
   "metadata": {},
   "cell_type": "code",
   "source": [
    "City_df = pd.DataFrame(df.City[:20].value_counts().sort_index())\n",
    "cities_by_Electric_Range=df.City.value_counts()\n",
    "cities_by_Electric_Range[:20].plot(kind='pie')"
   ],
   "id": "8b3ef8229bd2518d",
   "outputs": [],
   "execution_count": null
  },
  {
   "metadata": {},
   "cell_type": "code",
   "source": "sns.scatterplot(data=df, x=\"Electric Range\", y=\"Base MSRP\")",
   "id": "2920d03cdd319546",
   "outputs": [],
   "execution_count": null
  },
  {
   "metadata": {},
   "cell_type": "code",
   "source": "sns.scatterplot(data = df, x = 'Electric Range', y = 'Model Year')",
   "id": "cb212cf1af8c401e",
   "outputs": [],
   "execution_count": null
  },
  {
   "metadata": {},
   "cell_type": "code",
   "source": [
    "car_counts = df.groupby(['Make', 'Model']).size().reset_index(name='Count')\n",
    "most_popular_car = car_counts.loc[car_counts['Count'].idxmax()]\n",
    "popular_car_make = most_popular_car['Make']\n",
    "popular_car_model = most_popular_car['Model']\n",
    "popular_car_registrations = df[(df['Make'] == popular_car_make) & (df['Model'] == popular_car_model)]\n",
    "city_counts = popular_car_registrations['City'].value_counts().reset_index(name='Count')\n",
    "city_counts.columns = ['City', 'Count']\n",
    "top_cities = city_counts.head(10)\n",
    "\n",
    "plt.figure(figsize=(12, 6))\n",
    "sns.barplot(data=top_cities, x='City', y='Count', palette='viridis')\n",
    "plt.xticks(rotation=45)\n",
    "plt.xlabel('City')\n",
    "plt.ylabel('Number of Registrations')\n",
    "plt.title(f'Top 10 Cities with Most Registrations of {popular_car_make} {popular_car_model} (Most Popular Car)')\n",
    "plt.tight_layout()\n",
    "plt.show()"
   ],
   "id": "5445fdde70ac55a4",
   "outputs": [],
   "execution_count": null
  },
  {
   "metadata": {},
   "cell_type": "code",
   "source": [
    "non_zero_range = df[df['Electric Range'] > 0]\n",
    "\n",
    "sns.histplot(data=non_zero_range, x='Electric Range', hue='Electric Vehicle Type', bins=30, multiple='stack')\n",
    "plt.title(\"Electric Range Distribution by Vehicle Type (Excluding Vehicles with zero mile electric range\")\n",
    "plt.xlabel(\"Electric Range (miles)\")\n",
    "plt.ylabel(\"Frequency\")\n",
    "plt.show()\n",
    "\n"
   ],
   "id": "278c97184aae6d9d",
   "outputs": [],
   "execution_count": null
  },
  {
   "metadata": {},
   "cell_type": "code",
   "source": [
    "df_filtered = df[df['Electric Range'] > 0]\n",
    "\n",
    "plt.figure(figsize=(12, 8))  \n",
    "\n",
    "sns.boxplot(data=df_filtered, x='Make', y='Electric Range')\n",
    "plt.title(\"Electric Range Distribution by Make (Excluding Zero Range)\")\n",
    "plt.xlabel(\"Make\")\n",
    "plt.ylabel(\"Electric Range (miles)\")\n",
    "plt.xticks(rotation=90) \n",
    "plt.show()"
   ],
   "id": "7da9d3f27895c086",
   "outputs": [],
   "execution_count": null
  },
  {
   "metadata": {},
   "cell_type": "code",
   "source": [
    "df_filtered = df[df['Model Year'] >= 2010]\n",
    "\n",
    "\n",
    "plt.figure(figsize=(12, 8)) \n",
    "\n",
    "# Plot the boxplot for Electric Range by Model Year\n",
    "sns.boxplot(data=df_filtered, x='Model Year', y='Electric Range')\n",
    "plt.title(\"Electric Range Distribution by Model Year (2010 and Above)\")\n",
    "plt.xlabel(\"Model Year\")\n",
    "plt.ylabel(\"Electric Range (miles)\")\n",
    "plt.xticks(rotation=90)  \n",
    "plt.show()\n"
   ],
   "id": "5a929de38425e630",
   "outputs": [],
   "execution_count": null
  },
  {
   "metadata": {},
   "cell_type": "code",
   "source": [
    "plt.figure(figsize=(12, 6))  \n",
    "\n",
    "sns.histplot(data=df, \n",
    "             x=\"Electric Range\", \n",
    "             hue=\"Clean Alternative Fuel Vehicle (CAFV) Eligibility\", \n",
    "             multiple=\"stack\", \n",
    "             linewidth=0,bins = 25) \n",
    "\n",
    "\n",
    "plt.title('Electric Range Distribution by CAFV Eligibility')\n",
    "plt.xlabel('Electric Range')\n",
    "plt.ylabel('Count')\n",
    "\n",
    "\n",
    "plt.show()"
   ],
   "id": "c8b5ab483feea1b5",
   "outputs": [],
   "execution_count": null
  },
  {
   "metadata": {},
   "cell_type": "code",
   "source": [
    "city_counts = df['City'].value_counts().reset_index()\n",
    "city_counts.columns = ['City', 'Count']\n",
    "\n",
    "# Create a bar chart\n",
    "plt.figure(figsize=(12, 6))\n",
    "sns.barplot(data=city_counts.head(20), x='City', y='Count', palette='viridis')  # Display top 20 cities\n",
    "plt.title('Number of Electric Vehicles by City')\n",
    "plt.xlabel('City')\n",
    "plt.ylabel('Number of EVs')\n",
    "plt.xticks(rotation=45)\n",
    "plt.show()"
   ],
   "id": "8e5f908998a08ce2",
   "outputs": [],
   "execution_count": null
  },
  {
   "metadata": {},
   "cell_type": "code",
   "source": [
    "county_counts = df['County'].value_counts().reset_index()\n",
    "county_counts.columns = ['County', 'Count']\n",
    "\n",
    "\n",
    "plt.figure(figsize=(12, 6))\n",
    "sns.barplot(data=county_counts.head(20), x='County', y='Count', palette='magma')  # Display top 20 counties\n",
    "plt.title('Number of Electric Vehicles by County')\n",
    "plt.xlabel('County')\n",
    "plt.ylabel('Number of EVs')\n",
    "plt.xticks(rotation=45)\n",
    "plt.show()\n"
   ],
   "id": "7f729c2775374703",
   "outputs": [],
   "execution_count": null
  },
  {
   "metadata": {},
   "cell_type": "code",
   "source": [
    "state_abbr_to_name = {\n",
    "    \"AL\": \"Alabama\", \"AK\": \"Alaska\", \"AZ\": \"Arizona\", \"AR\": \"Arkansas\",\n",
    "    \"CA\": \"California\", \"CO\": \"Colorado\", \"CT\": \"Connecticut\", \"DE\": \"Delaware\",\n",
    "    \"FL\": \"Florida\", \"GA\": \"Georgia\", \"HI\": \"Hawaii\", \"ID\": \"Idaho\",\n",
    "    \"IL\": \"Illinois\", \"IN\": \"Indiana\", \"IA\": \"Iowa\", \"KS\": \"Kansas\",\n",
    "    \"KY\": \"Kentucky\", \"LA\": \"Louisiana\", \"ME\": \"Maine\", \"MD\": \"Maryland\",\n",
    "    \"MA\": \"Massachusetts\", \"MI\": \"Michigan\", \"MN\": \"Minnesota\", \"MS\": \"Mississippi\",\n",
    "    \"MO\": \"Missouri\", \"MT\": \"Montana\", \"NE\": \"Nebraska\", \"NV\": \"Nevada\",\n",
    "    \"NH\": \"New Hampshire\", \"NJ\": \"New Jersey\", \"NM\": \"New Mexico\", \"NY\": \"New York\",\n",
    "    \"NC\": \"North Carolina\", \"ND\": \"North Dakota\", \"OH\": \"Ohio\", \"OK\": \"Oklahoma\",\n",
    "    \"OR\": \"Oregon\", \"PA\": \"Pennsylvania\", \"RI\": \"Rhode Island\", \"SC\": \"South Carolina\",\n",
    "    \"SD\": \"South Dakota\", \"TN\": \"Tennessee\", \"TX\": \"Texas\", \"UT\": \"Utah\",\n",
    "    \"VT\": \"Vermont\", \"VA\": \"Virginia\", \"WA\": \"Washington\", \"WV\": \"West Virginia\",\n",
    "    \"WI\": \"Wisconsin\", \"WY\": \"Wyoming\", \"DC\": \"District of Columbia\"\n",
    "}"
   ],
   "id": "1e44d6fd66f99846",
   "outputs": [],
   "execution_count": null
  },
  {
   "metadata": {},
   "cell_type": "code",
   "source": [
    "df = pd.read_csv('data/Electric_Vehicle_Population_Data.csv')# Count vehicles by state abbreviation\n",
    "vehicle_counts = df['State'].value_counts().reset_index()\n",
    "vehicle_counts.columns = ['State', 'Vehicle Count']\n",
    "vehicle_counts['State'] = vehicle_counts['State'].map(state_abbr_to_name)\n",
    "vehicle_counts.dropna(subset=['State'], inplace=True)\n",
    "\n",
    "print(vehicle_counts)"
   ],
   "id": "6522ea5cbf14e5a7",
   "outputs": [],
   "execution_count": null
  },
  {
   "metadata": {},
   "cell_type": "code",
   "source": [
    "shape_path = r\"C:\\Users\\ahmad\\Downloads\\cb_2018_us_state_500k\\cb_2018_us_state_500k.shp\"\n",
    "shape = gpd.read_file(shape_path)\n",
    "shape = pd.merge(\n",
    "    left = shape,\n",
    "    right = vehicle_counts,\n",
    "    left_on = 'NAME',\n",
    "    right_on='State',\n",
    "    how = 'left'\n",
    ")\n",
    "\n",
    "shape = shape.dropna()\n",
    "shape = shape[~shape['NAME'].isin(['Alaska','Hawaii','Puerto Rico'])]\n",
    "\n",
    "ax = shape.boundary.plot(edgecolor = 'black',linewidth = 0.2, figsize = (10,5))\n",
    "shape.plot(ax = ax,column='Vehicle Count',legend = True,cmap = 'RdBu',legend_kwds = ({'shrink':0.3,'orientation': 'horizontal'}))\n",
    "\n",
    "ax.get_xaxis().set_visible(False)\n",
    "ax.get_yaxis().set_visible(False)\n",
    "for edge in ['right','bottom','top']:\n",
    "    ax.spines[edge].set_visible(False)\n",
    "\n",
    "ax.set_title(\"EVs Distribution in the USA\",size=18,weight='bold')\n",
    "plt.show()"
   ],
   "id": "ff2e1a87ef7d1d93",
   "outputs": [],
   "execution_count": null
  }
 ],
 "metadata": {
  "kernelspec": {
   "display_name": "Python 3",
   "language": "python",
   "name": "python3"
  },
  "language_info": {
   "codemirror_mode": {
    "name": "ipython",
    "version": 2
   },
   "file_extension": ".py",
   "mimetype": "text/x-python",
   "name": "python",
   "nbconvert_exporter": "python",
   "pygments_lexer": "ipython2",
   "version": "2.7.6"
  }
 },
 "nbformat": 4,
 "nbformat_minor": 5
}
